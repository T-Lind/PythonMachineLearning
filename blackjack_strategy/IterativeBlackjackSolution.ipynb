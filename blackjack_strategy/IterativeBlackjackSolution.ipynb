{
 "cells": [
  {
   "cell_type": "markdown",
   "source": [
    "# Blackjack Solution through a proportional adjustment approach"
   ],
   "metadata": {
    "collapsed": false,
    "pycharm": {
     "name": "#%% md\n"
    }
   }
  },
  {
   "cell_type": "code",
   "execution_count": 30,
   "outputs": [],
   "source": [
    "from BlackjackEnv import BlackjackEnv\n",
    "import matplotlib.pyplot as plt\n",
    "from tqdm import tqdm"
   ],
   "metadata": {
    "collapsed": false,
    "pycharm": {
     "name": "#%%\n"
    }
   }
  },
  {
   "cell_type": "code",
   "execution_count": 31,
   "outputs": [],
   "source": [
    "# Initial threshold value for training\n",
    "init_threshold: int = 20\n",
    "n_games_per_episode: int = 1_000\n",
    "n_episodes: int = 10\n",
    "n_turns_per_episode: int = 3"
   ],
   "metadata": {
    "collapsed": false,
    "pycharm": {
     "name": "#%%\n"
    }
   }
  },
  {
   "cell_type": "code",
   "execution_count": 32,
   "outputs": [],
   "source": [
    "def reward(ending_val):\n",
    "    if ending_val > 21:\n",
    "        return False\n",
    "    return (ending_val / 21) ** 3"
   ],
   "metadata": {
    "collapsed": false,
    "pycharm": {
     "name": "#%%\n"
    }
   }
  },
  {
   "cell_type": "code",
   "execution_count": 33,
   "outputs": [],
   "source": [
    "def train_episodes(threshold):\n",
    "    total_reward = 0\n",
    "    for i in range(n_games_per_episode):\n",
    "        env = BlackjackEnv(1)\n",
    "\n",
    "        for _ in range(n_turns_per_episode):\n",
    "            if env.hands[0] < threshold:\n",
    "                env.add_card(0)\n",
    "\n",
    "        if env.hands[0] > 21:\n",
    "            total_reward += reward(env.hands[0])\n",
    "    return total_reward / n_games_per_episode"
   ],
   "metadata": {
    "collapsed": false,
    "pycharm": {
     "name": "#%%\n"
    }
   }
  },
  {
   "cell_type": "code",
   "execution_count": 37,
   "outputs": [],
   "source": [
    "def optimize_threshold(threshold=init_threshold):\n",
    "    reward_over_time = []\n",
    "    for i in tqdm(range(n_episodes)):\n",
    "        reward_over_time.append(train_episodes(threshold))\n",
    "\n",
    "        if i < 1:\n",
    "            threshold -= 1\n",
    "            continue\n",
    "\n",
    "        gradient = 0.01 + (reward_over_time[-1] - reward_over_time[-2]) / 2\n",
    "\n",
    "        if gradient > 0:\n",
    "            threshold -= 1\n",
    "        if gradient < 0:\n",
    "            threshold += 1\n",
    "    return threshold, reward_over_time"
   ],
   "metadata": {
    "collapsed": false,
    "pycharm": {
     "name": "#%%\n"
    }
   }
  },
  {
   "cell_type": "code",
   "execution_count": 38,
   "outputs": [
    {
     "name": "stderr",
     "output_type": "stream",
     "text": [
      "100%|██████████| 100/100 [01:19<00:00,  1.27it/s]\n"
     ]
    }
   ],
   "source": [
    "resultant_threshold, rewards = optimize_threshold()"
   ],
   "metadata": {
    "collapsed": false,
    "pycharm": {
     "name": "#%%\n"
    }
   }
  },
  {
   "cell_type": "code",
   "execution_count": 40,
   "outputs": [
    {
     "name": "stdout",
     "output_type": "stream",
     "text": [
      "Final threshold: -80\n"
     ]
    },
    {
     "data": {
      "text/plain": "<Figure size 640x480 with 1 Axes>",
      "image/png": "[encoded data removed]"
     },
     "metadata": {},
     "output_type": "display_data"
    }
   ],
   "source": [
    "print(f\"Final threshold: {resultant_threshold}\")\n",
    "plt.plot(rewards, label=\"Average reward over time\")\n",
    "plt.legend()\n",
    "plt.show()"
   ],
   "metadata": {
    "collapsed": false,
    "pycharm": {
     "name": "#%%\n"
    }
   }
  },
  {
   "cell_type": "markdown",
   "source": [],
   "metadata": {
    "collapsed": false,
    "pycharm": {
     "name": "#%% md\n"
    }
   }
  }
 ],
 "metadata": {
  "kernelspec": {
   "display_name": "Python 3",
   "language": "python",
   "name": "python3"
  },
  "language_info": {
   "codemirror_mode": {
    "name": "ipython",
    "version": 2
   },
   "file_extension": ".py",
   "mimetype": "text/x-python",
   "name": "python",
   "nbconvert_exporter": "python",
   "pygments_lexer": "ipython2",
   "version": "2.7.6"
  }
 },
 "nbformat": 4,
 "nbformat_minor": 0
}