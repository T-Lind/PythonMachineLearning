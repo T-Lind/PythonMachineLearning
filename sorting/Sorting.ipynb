{
  "nbformat": 4,
  "nbformat_minor": 0,
  "metadata": {
    "colab": {
      "provenance": []
    },
    "kernelspec": {
      "name": "python3",
      "display_name": "Python 3"
    },
    "language_info": {
      "name": "python"
    },
    "accelerator": "GPU",
    "gpuClass": "standard"
  },
  "cells": [
    {
      "cell_type": "code",
      "source": [
        "import random, numba\n",
        "from numba import jit\n",
        "import numpy as np"
      ],
      "metadata": {
        "id": "HyklbGb5TvuK"
      },
      "execution_count": 1,
      "outputs": []
    },
    {
      "cell_type": "code",
      "source": [
        "n_items = 1_000_000"
      ],
      "metadata": {
        "id": "0CujlwLfUL_U"
      },
      "execution_count": 2,
      "outputs": []
    },
    {
      "cell_type": "code",
      "execution_count": 3,
      "metadata": {
        "id": "OHnnp5hJTh83"
      },
      "outputs": [],
      "source": [
        "np_array = np.array([random.randrange(0, 2147483647) for _ in range(n_items)])"
      ]
    },
    {
      "cell_type": "code",
      "source": [
        "# @jit(nopython=True)\n",
        "def countingSort(array, size):\n",
        "    output = np.zeros(size)\n",
        "\n",
        "    # Initialize count array\n",
        "    count = np.zeros(2147483647)\n",
        "\n",
        "    # Store the count of each elements in count array\n",
        "    for i in range(0, size):\n",
        "        count[array[i]] += 1\n",
        "\n",
        "    # Store the cummulative count\n",
        "    for i in range(1, 10):\n",
        "        count[i] += count[i - 1]\n",
        "\n",
        "    # Find the index of each element of the original array in count array\n",
        "    # place the elements in output array\n",
        "    i = size - 1\n",
        "    while i >= 0:\n",
        "        output[count[array[i]] - 1] = array[i]\n",
        "        count[array[i]] -= 1\n",
        "        i -= 1\n",
        "\n",
        "    return output\n",
        "\n",
        "\n"
      ],
      "metadata": {
        "id": "1l6r7m11VFC0"
      },
      "execution_count": 4,
      "outputs": []
    },
    {
      "cell_type": "code",
      "source": [
        "countingSort(np_array, n_items)"
      ],
      "metadata": {
        "id": "ccOa2pPAWXUa"
      },
      "execution_count": null,
      "outputs": []
    }
  ]
}