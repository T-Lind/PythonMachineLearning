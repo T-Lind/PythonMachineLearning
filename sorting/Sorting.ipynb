{
 "nbformat": 4,
 "nbformat_minor": 0,
 "metadata": {
  "colab": {
   "provenance": []
  },
  "kernelspec": {
   "name": "python3",
   "display_name": "Python 3"
  },
  "language_info": {
   "name": "python"
  },
  "accelerator": "GPU",
  "gpuClass": "standard"
 },
 "cells": [
  {
   "cell_type": "code",
   "source": [
    "import random, numba\n",
    "import time\n",
    "\n",
    "from numba import jit\n",
    "import numpy as np"
   ],
   "metadata": {
    "id": "HyklbGb5TvuK"
   },
   "execution_count": 9,
   "outputs": []
  },
  {
   "cell_type": "code",
   "source": [
    "n_items = 1_000_000"
   ],
   "metadata": {
    "id": "0CujlwLfUL_U"
   },
   "execution_count": 10,
   "outputs": []
  },
  {
   "cell_type": "code",
   "execution_count": 11,
   "metadata": {
    "id": "OHnnp5hJTh83"
   },
   "outputs": [],
   "source": [
    "np_array = np.array([random.randrange(0, 2147483646) for _ in range(n_items)], dtype=np.int16)"
   ]
  },
  {
   "cell_type": "code",
   "execution_count": 12,
   "outputs": [],
   "source": [
    "@jit(nopython=True)\n",
    "def is_sorted(array):\n",
    "    for i in range(len(array)-1):\n",
    "        if array[i] < array[i-1]:\n",
    "            return False\n",
    "    return True"
   ],
   "metadata": {
    "collapsed": false
   }
  },
  {
   "cell_type": "code",
   "execution_count": 13,
   "outputs": [],
   "source": [
    "@jit(nopython=True)\n",
    "def countingSort(array, size):\n",
    "    count = np.zeros(max(array)+1, dtype=np.int16)\n",
    "    output = np.zeros(size, dtype=np.int16)\n",
    "\n",
    "    for i in range(size):\n",
    "        count[array[i]] += 1\n",
    "\n",
    "    for i in range(1, )\n",
    "\n",
    "    enumerate\n"
   ],
   "metadata": {
    "collapsed": false
   }
  },
  {
   "cell_type": "code",
   "execution_count": 14,
   "outputs": [],
   "source": [
    "# def countingSort2(array, size, output, count):"
   ],
   "metadata": {
    "collapsed": false
   }
  },
  {
   "cell_type": "markdown",
   "source": [],
   "metadata": {
    "collapsed": false
   }
  },
  {
   "cell_type": "code",
   "execution_count": 15,
   "outputs": [
    {
     "name": "stdout",
     "output_type": "stream",
     "text": [
      "7.186758756637573\n"
     ]
    }
   ],
   "source": [
    "before = time.time()\n",
    "countingSort(np_array, n_items, output, count)\n",
    "after = time.time()\n",
    "print(after-before)"
   ],
   "metadata": {
    "collapsed": false
   }
  },
  {
   "cell_type": "code",
   "execution_count": 16,
   "outputs": [
    {
     "data": {
      "text/plain": "False"
     },
     "execution_count": 16,
     "metadata": {},
     "output_type": "execute_result"
    }
   ],
   "source": [
    "is_sorted(output)"
   ],
   "metadata": {
    "collapsed": false
   }
  }
 ]
}
